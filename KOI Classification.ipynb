{
 "cells": [
  {
   "cell_type": "code",
   "execution_count": 1,
   "metadata": {},
   "outputs": [
    {
     "data": {
      "text/html": [
       "<style>.container { width:95% !important; }</style>"
      ],
      "text/plain": [
       "<IPython.core.display.HTML object>"
      ]
     },
     "metadata": {},
     "output_type": "display_data"
    }
   ],
   "source": [
    "from IPython.core.display import display, HTML\n",
    "display(HTML(\"<style>.container { width:95% !important; }</style>\"))\n",
    "\n",
    "import pandas as pd\n",
    "import os"
   ]
  },
  {
   "cell_type": "markdown",
   "metadata": {},
   "source": [
    "## Import Data"
   ]
  },
  {
   "cell_type": "code",
   "execution_count": 2,
   "metadata": {},
   "outputs": [
    {
     "name": "stdout",
     "output_type": "stream",
     "text": [
      "   rowid     kepid kepoi_name   kepler_name koi_disposition koi_pdisposition  \\\n",
      "0      1  10797460  K00752.01  Kepler-227 b       CONFIRMED        CANDIDATE   \n",
      "1      2  10797460  K00752.02  Kepler-227 c       CONFIRMED        CANDIDATE   \n",
      "2      3  10811496  K00753.01           NaN  FALSE POSITIVE   FALSE POSITIVE   \n",
      "3      4  10848459  K00754.01           NaN  FALSE POSITIVE   FALSE POSITIVE   \n",
      "4      5  10854555  K00755.01  Kepler-664 b       CONFIRMED        CANDIDATE   \n",
      "\n",
      "   koi_score  koi_fpflag_nt  koi_fpflag_ss  koi_fpflag_co  ...  \\\n",
      "0      1.000              0              0              0  ...   \n",
      "1      0.969              0              0              0  ...   \n",
      "2      0.000              0              1              0  ...   \n",
      "3      0.000              0              1              0  ...   \n",
      "4      1.000              0              0              0  ...   \n",
      "\n",
      "   koi_steff_err2  koi_slogg  koi_slogg_err1  koi_slogg_err2  koi_srad  \\\n",
      "0           -81.0      4.467           0.064          -0.096     0.927   \n",
      "1           -81.0      4.467           0.064          -0.096     0.927   \n",
      "2          -176.0      4.544           0.044          -0.176     0.868   \n",
      "3          -174.0      4.564           0.053          -0.168     0.791   \n",
      "4          -211.0      4.438           0.070          -0.210     1.046   \n",
      "\n",
      "   koi_srad_err1  koi_srad_err2         ra        dec  koi_kepmag  \n",
      "0          0.105         -0.061  291.93423  48.141651      15.347  \n",
      "1          0.105         -0.061  291.93423  48.141651      15.347  \n",
      "2          0.233         -0.078  297.00482  48.134129      15.436  \n",
      "3          0.201         -0.067  285.53461  48.285210      15.597  \n",
      "4          0.334         -0.133  288.75488  48.226200      15.509  \n",
      "\n",
      "[5 rows x 50 columns]\n"
     ]
    }
   ],
   "source": [
    "koi_df = pd.read_csv(\"cumulative.csv\")\n",
    "print(koi_df.head())"
   ]
  },
  {
   "cell_type": "code",
   "execution_count": 3,
   "metadata": {},
   "outputs": [
    {
     "name": "stdout",
     "output_type": "stream",
     "text": [
      "Number of entries: 9564\n",
      "Number of confirmed: 2293\n",
      "Number of candidates: 2248\n",
      "Number of false positives: 5023\n"
     ]
    }
   ],
   "source": [
    "len_df = len(koi_df)\n",
    "len_con = len(koi_df[koi_df['koi_disposition'] == 'CONFIRMED'])\n",
    "len_can = len(koi_df[koi_df['koi_disposition'] == 'CANDIDATE'])\n",
    "len_fal = len(koi_df[koi_df['koi_disposition'] == 'FALSE POSITIVE'])\n",
    "\n",
    "# Total Length\n",
    "print(f\"Number of entries: {len_df}\")\n",
    "\n",
    "# Confirmed\n",
    "print(f\"Number of confirmed: {len_con}\")\n",
    "\n",
    "# Candidate\n",
    "print(f\"Number of candidates: {len_can}\")\n",
    "\n",
    "# False Positives\n",
    "print(f\"Number of false positives: {len_fal}\")"
   ]
  },
  {
   "cell_type": "markdown",
   "metadata": {},
   "source": [
    "## Data Cleaning and Feature Selection"
   ]
  },
  {
   "cell_type": "code",
   "execution_count": 4,
   "metadata": {},
   "outputs": [],
   "source": [
    "# Flags:\n",
    "#        koi_fpflag_nt = 1 (Not Transit-Like Flag)\n",
    "#        koi_fpflag_ss = 1 (Stellar Eclipse Flag)\n",
    "#        koi_fpflag_co = 1 (Centroid Offset Flag)\n",
    "#        koi_fpflag_ec = 1 (Ephemeris Match Indicates Contamination Flag)\n",
    "\n",
    "# Integer Encode\n",
    "koi_df.loc[koi_df.koi_disposition == 'CONFIRMED', 'category'] = 0 \n",
    "koi_df.loc[koi_df.koi_disposition == 'CANDIDATE', 'category'] = 1\n",
    "koi_df.loc[koi_df.koi_disposition == 'FALSE POSITIVE', 'category'] = 2\n",
    "\n",
    "# Force null uncertainty to 0\n",
    "koi_df['koi_duration_err1'] = koi_df['koi_duration_err1'].fillna(0)\n",
    "koi_df['koi_depth_err1'] = koi_df['koi_depth_err1'].fillna(0)\n",
    "koi_df['koi_period_err1'] = koi_df['koi_period_err1'].fillna(0)\n",
    "\n",
    "# Correlation\n",
    "koi_df.corr().to_csv(\"correlation.csv\", index=True)\n",
    "\n",
    "''' \n",
    "Using:\n",
    "    kepid: unique id (Display only),\n",
    "    kepler_name: name (Display only),\n",
    "    koi_disposition: category (label),\n",
    "    koi_duration: duration of transit (feature),\n",
    "    koi_duration_err1: duration uncertainty (feature)\n",
    "    koi_depth: stellar flux lost during transit (feature)\n",
    "    koi_depth_err1: depth uncertainty (feature)\n",
    "    koi_period: The interval between consecutive planetary transits(feature)\n",
    "    koi_period_err1: Period uncertainty (feature)\n",
    "    prad: eccentricity value(feature)\n",
    "'''\n",
    "\n",
    "koi_df = koi_df[['kepid', \n",
    "                'kepler_name', \n",
    "                 'koi_disposition', \n",
    "                 'koi_duration', \n",
    "                 'koi_duration_err1',\n",
    "                 'koi_depth',\n",
    "                 'koi_depth_err1',\n",
    "                 'koi_period',\n",
    "                 'koi_period_err1',\n",
    "                 'koi_prad',\n",
    "                 'koi_fpflag_nt', \n",
    "                 'koi_fpflag_ss', \n",
    "                 'koi_fpflag_co', \n",
    "                 'category']]\n",
    "\n",
    "# Depth has null values. lets remove.\n",
    "koi_df.dropna(subset = [\"koi_depth\"], inplace=True)"
   ]
  },
  {
   "cell_type": "markdown",
   "metadata": {},
   "source": [
    "## Typical Stats"
   ]
  },
  {
   "cell_type": "code",
   "execution_count": 5,
   "metadata": {},
   "outputs": [
    {
     "name": "stdout",
     "output_type": "stream",
     "text": [
      "Duration mean: 5.6546922649711995, Duration std: 6.49970265482651\n",
      "Duration max: 138.54, Duration min: 0.052, Duration spread: 138.488\n",
      "Depth mean: 23791.335898271933, Depth std: 82242.68314876728\n",
      "Depth max: 1541400.0, Depth min: 0.0, Depth spread: 1541400.0\n",
      "                      kepid  koi_duration  koi_duration_err1  koi_depth  \\\n",
      "kepid              1.000000     -0.025658          -0.014655  -0.017483   \n",
      "koi_duration      -0.025658      1.000000           0.372224   0.067275   \n",
      "koi_duration_err1 -0.014655      0.372224           1.000000  -0.130779   \n",
      "koi_depth         -0.017483      0.067275          -0.130779   1.000000   \n",
      "koi_depth_err1    -0.016069      0.002231           0.019478   0.228531   \n",
      "koi_period         0.011527      0.037294           0.032982  -0.009180   \n",
      "koi_period_err1    0.011932      0.266048           0.543926  -0.070543   \n",
      "koi_prad           0.003681      0.036573           0.021426   0.002558   \n",
      "koi_fpflag_nt     -0.035018      0.288012           0.362135  -0.045873   \n",
      "koi_fpflag_ss     -0.047989      0.002211          -0.191976   0.424323   \n",
      "koi_fpflag_co     -0.102981     -0.048033          -0.016114  -0.124987   \n",
      "category          -0.102364      0.161066           0.163122   0.240949   \n",
      "\n",
      "                   koi_depth_err1  koi_period  koi_period_err1  koi_prad  \\\n",
      "kepid                   -0.016069    0.011527         0.011932  0.003681   \n",
      "koi_duration             0.002231    0.037294         0.266048  0.036573   \n",
      "koi_duration_err1        0.019478    0.032982         0.543926  0.021426   \n",
      "koi_depth                0.228531   -0.009180        -0.070543  0.002558   \n",
      "koi_depth_err1           1.000000    0.002668         0.007868  0.001544   \n",
      "koi_period               0.002668    1.000000         0.053205  0.005135   \n",
      "koi_period_err1          0.007868    0.053205         1.000000  0.023374   \n",
      "koi_prad                 0.001544    0.005135         0.023374  1.000000   \n",
      "koi_fpflag_nt            0.027353    0.032254         0.352866  0.045008   \n",
      "koi_fpflag_ss            0.007981   -0.020488        -0.133919  0.001429   \n",
      "koi_fpflag_co           -0.010533   -0.020102        -0.089415 -0.011491   \n",
      "category                 0.020376    0.008843         0.136378  0.027518   \n",
      "\n",
      "                   koi_fpflag_nt  koi_fpflag_ss  koi_fpflag_co  category  \n",
      "kepid                  -0.035018      -0.047989      -0.102981 -0.102364  \n",
      "koi_duration            0.288012       0.002211      -0.048033  0.161066  \n",
      "koi_duration_err1       0.362135      -0.191976      -0.016114  0.163122  \n",
      "koi_depth              -0.045873       0.424323      -0.124987  0.240949  \n",
      "koi_depth_err1          0.027353       0.007981      -0.010533  0.020376  \n",
      "koi_period              0.032254      -0.020488      -0.020102  0.008843  \n",
      "koi_period_err1         0.352866      -0.133919      -0.089415  0.136378  \n",
      "koi_prad                0.045008       0.001429      -0.011491  0.027518  \n",
      "koi_fpflag_nt           1.000000      -0.248934      -0.004709  0.386526  \n",
      "koi_fpflag_ss          -0.248934       1.000000       0.145177  0.468433  \n",
      "koi_fpflag_co          -0.004709       0.145177       1.000000  0.439235  \n",
      "category                0.386526       0.468433       0.439235  1.000000  \n"
     ]
    }
   ],
   "source": [
    "# Duration Mean / STD\n",
    "duration_mean = koi_df[['koi_duration']].mean()\n",
    "duration_std = koi_df[['koi_duration']].std()\n",
    "duration_max = koi_df['koi_duration'].max()\n",
    "duration_min = koi_df['koi_duration'].min()\n",
    "duration_spread = duration_max - duration_min\n",
    "print(f\"Duration mean: {duration_mean.values[0]}, Duration std: {duration_std.values[0]}\")\n",
    "print(f\"Duration max: {duration_max}, Duration min: {duration_min}, Duration spread: {duration_spread}\")\n",
    "\n",
    "# Depth Mean / STD\n",
    "depth_mean = koi_df[['koi_depth']].mean()\n",
    "depth_std = koi_df[['koi_depth']].std()\n",
    "depth_std = koi_df[['koi_depth']].std()\n",
    "depth_max = koi_df['koi_depth'].max()\n",
    "depth_min = koi_df['koi_depth'].min()\n",
    "depth_spread = depth_max - depth_min\n",
    "print(f\"Depth mean: {depth_mean.values[0]}, Depth std: {depth_std.values[0]}\")\n",
    "print(f\"Depth max: {depth_max}, Depth min: {depth_min}, Depth spread: {depth_spread}\")\n",
    "\n",
    "# Correlation\n",
    "print(koi_df[['kepid', \n",
    "                'kepler_name', \n",
    "                 'koi_disposition', \n",
    "                 'koi_duration',\n",
    "                 'koi_duration_err1', \n",
    "                 'koi_depth',\n",
    "                 'koi_depth_err1',\n",
    "                 'koi_period',\n",
    "                 'koi_period_err1',\n",
    "                 'koi_prad',\n",
    "                 'koi_fpflag_nt', \n",
    "                 'koi_fpflag_ss', \n",
    "                 'koi_fpflag_co', \n",
    "                 'category']].corr())"
   ]
  },
  {
   "cell_type": "markdown",
   "metadata": {},
   "source": [
    "## Plots"
   ]
  },
  {
   "cell_type": "code",
   "execution_count": 6,
   "metadata": {},
   "outputs": [],
   "source": [
    "%matplotlib notebook\n",
    "import matplotlib.pyplot as plt\n",
    "\n",
    "# # Candidates\n",
    "# plt.figure(\"Candidates\", figsize=(15,7))\n",
    "# plt.scatter(koi_df['kepid'][:100], koi_df['category'][:100])\n",
    "# plt.ticklabel_format(useOffset=False, style='plain')\n",
    "# plt.xlabel(\"ID\")\n",
    "# plt.ylabel(\"Category\")\n",
    "# plt.show()\n",
    "\n",
    "# # duration\n",
    "# plt.figure(\"Duration\", figsize=(15,7))\n",
    "# plt.scatter(koi_df['kepid'][:100], koi_df['koi_duration'][:100])\n",
    "# plt.ticklabel_format(useOffset=False, style='plain')\n",
    "# plt.xlabel(\"ID\")\n",
    "# plt.ylabel(\"Duration\")\n",
    "# plt.show()\n",
    "\n",
    "# # # depth\n",
    "# plt.figure(\"Depth\", figsize=(15,7))\n",
    "# plt.plot(koi_df['koi_depth'])\n",
    "# plt.xlabel(\"ID\")\n",
    "# plt.ylabel(\"Depth\")\n",
    "# plt.show()\n",
    "\n",
    "# Against\n",
    "# plt.figure(\"Against\", figsize=(15,7))\n",
    "# plt.scatter(x=koi_df.loc[koi_df['category'] == 1], y=koi_df.loc[koi_df['category'] == 1, 'koi_duration'])"
   ]
  },
  {
   "cell_type": "markdown",
   "metadata": {},
   "source": [
    "## Standardize"
   ]
  },
  {
   "cell_type": "code",
   "execution_count": 7,
   "metadata": {},
   "outputs": [],
   "source": [
    "from sklearn.preprocessing import StandardScaler\n",
    "\n",
    "scaler = StandardScaler()\n",
    "\n",
    "# scale\n",
    "koi_df[['koi_depth', 'koi_duration', 'koi_prad']] = scaler.fit_transform(koi_df[['koi_depth', 'koi_duration','koi_prad']])\n",
    "koi_df = koi_df.reset_index()"
   ]
  },
  {
   "cell_type": "markdown",
   "metadata": {},
   "source": [
    "## Train/Test Split"
   ]
  },
  {
   "cell_type": "code",
   "execution_count": 8,
   "metadata": {},
   "outputs": [],
   "source": [
    "# 2/3 split\n",
    "\n",
    "# Flags included\n",
    "x_train = koi_df[['koi_duration', 'koi_duration_err1', 'koi_depth', 'koi_depth_err1', 'koi_prad', 'koi_fpflag_nt', 'koi_fpflag_ss', 'koi_fpflag_co']][:7356]\n",
    "x_test = koi_df[['koi_duration', 'koi_duration_err1', 'koi_depth', 'koi_depth_err1', 'koi_prad', 'koi_fpflag_nt', 'koi_fpflag_ss', 'koi_fpflag_co']][7357:]\n",
    "y_train = koi_df[['category']][:7356]\n",
    "y_test = koi_df[['category']][7357:]"
   ]
  },
  {
   "cell_type": "markdown",
   "metadata": {},
   "source": [
    "## Sklearn log reg"
   ]
  },
  {
   "cell_type": "code",
   "execution_count": 9,
   "metadata": {},
   "outputs": [
    {
     "name": "stdout",
     "output_type": "stream",
     "text": [
      "{'C': 1.0, 'class_weight': None, 'dual': False, 'fit_intercept': True, 'intercept_scaling': 1, 'l1_ratio': None, 'max_iter': 500, 'multi_class': 'auto', 'n_jobs': None, 'penalty': 'l2', 'random_state': None, 'solver': 'lbfgs', 'tol': 0.0001, 'verbose': 0, 'warm_start': False}\n"
     ]
    },
    {
     "name": "stderr",
     "output_type": "stream",
     "text": [
      "/home/andrew/anaconda3/lib/python3.7/site-packages/sklearn/linear_model/_logistic.py:940: ConvergenceWarning: lbfgs failed to converge (status=1):\n",
      "STOP: TOTAL NO. of ITERATIONS REACHED LIMIT.\n",
      "\n",
      "Increase the number of iterations (max_iter) or scale the data as shown in:\n",
      "    https://scikit-learn.org/stable/modules/preprocessing.html\n",
      "Please also refer to the documentation for alternative solver options:\n",
      "    https://scikit-learn.org/stable/modules/linear_model.html#logistic-regression\n",
      "  extra_warning_msg=_LOGISTIC_SOLVER_CONVERGENCE_MSG)\n"
     ]
    }
   ],
   "source": [
    "from sklearn.linear_model import LogisticRegression\n",
    "\n",
    "# Build and fit (regularized by default)\n",
    "regressor = LogisticRegression(max_iter=1000)\n",
    "history = regressor.fit(x_train, y_train.values.ravel())\n",
    "\n",
    "print(regressor.get_params())"
   ]
  },
  {
   "cell_type": "markdown",
   "metadata": {},
   "source": [
    "## Prediction"
   ]
  },
  {
   "cell_type": "code",
   "execution_count": 12,
   "metadata": {},
   "outputs": [
    {
     "name": "stdout",
     "output_type": "stream",
     "text": [
      "[2. 2. 2. ... 1. 2. 2.]\n",
      "      category\n",
      "7357       2.0\n",
      "7358       2.0\n",
      "7359       2.0\n",
      "7360       2.0\n",
      "7361       2.0\n",
      "...        ...\n",
      "9196       2.0\n",
      "9197       2.0\n",
      "9198       1.0\n",
      "9199       2.0\n",
      "9200       2.0\n",
      "\n",
      "[1844 rows x 1 columns]\n",
      "Correct Predictions: 1679\n",
      "Accuracy: 91.05206073752711 %\n"
     ]
    },
    {
     "data": {
      "text/plain": [
       "array([[  24,   83,    9],\n",
       "       [  11,  321,   46],\n",
       "       [   3,   13, 1334]])"
      ]
     },
     "execution_count": 12,
     "metadata": {},
     "output_type": "execute_result"
    }
   ],
   "source": [
    "from sklearn.metrics import confusion_matrix\n",
    "import numpy as np\n",
    "\n",
    "predictions = regressor.predict(x_test)\n",
    "print(predictions)\n",
    "print(y_test)\n",
    "pred_df = pd.DataFrame(predictions, columns=[\"y_hat\"])\n",
    "pred_df['y'] = y_test.values\n",
    "pred_df.to_csv(\"preds.csv\", index=False)\n",
    "\n",
    "# Accuracy\n",
    "correct = len(pred_df.loc[pred_df['y'] == pred_df['y_hat']])\n",
    "print(f\"Correct Predictions: {correct}\")\n",
    "accuracy = (correct / len(pred_df)) * 100\n",
    "print(f\"Accuracy: {accuracy} %\")\n",
    "\n",
    "# Confusion Matrix\n",
    "confusion_matrix(predictions, y_test, labels=[0, 1, 2])"
   ]
  },
  {
   "cell_type": "markdown",
   "metadata": {},
   "source": [
    "## Analysis"
   ]
  },
  {
   "cell_type": "code",
   "execution_count": null,
   "metadata": {},
   "outputs": [],
   "source": []
  }
 ],
 "metadata": {
  "kernelspec": {
   "display_name": "Python 3",
   "language": "python",
   "name": "python3"
  },
  "language_info": {
   "codemirror_mode": {
    "name": "ipython",
    "version": 3
   },
   "file_extension": ".py",
   "mimetype": "text/x-python",
   "name": "python",
   "nbconvert_exporter": "python",
   "pygments_lexer": "ipython3",
   "version": "3.7.6"
  }
 },
 "nbformat": 4,
 "nbformat_minor": 4
}
